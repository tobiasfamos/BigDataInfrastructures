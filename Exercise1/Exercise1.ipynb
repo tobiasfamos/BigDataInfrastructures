{
 "cells": [
  {
   "cell_type": "markdown",
   "source": [
    "Connect to Database"
   ],
   "metadata": {
    "collapsed": false,
    "pycharm": {
     "name": "#%% md\n"
    }
   }
  },
  {
   "cell_type": "code",
   "execution_count": 51,
   "metadata": {
    "collapsed": true,
    "pycharm": {
     "name": "#%%\n"
    }
   },
   "outputs": [
    {
     "name": "stdout",
     "output_type": "stream",
     "text": [
      "Opened database successfully\n"
     ]
    }
   ],
   "source": [
    "import psycopg2\n",
    "conn = psycopg2.connect(database=\"BDI_exercise_1\", user = \"spring1\", password = \"ThePassword\", host = \"127.0.0.1\", port = \"5432\")\n",
    "print(\"Opened database successfully\")\n",
    "cur = conn.cursor()\n"
   ]
  },
  {
   "cell_type": "markdown",
   "source": [
    "Insert a few Values into the DB"
   ],
   "metadata": {
    "collapsed": false,
    "pycharm": {
     "name": "#%% md\n"
    }
   }
  },
  {
   "cell_type": "code",
   "execution_count": 24,
   "outputs": [
    {
     "ename": "UniqueViolation",
     "evalue": "duplicate key value violates unique constraint \"author_pkey\"\nDETAIL:  Key (authorid)=(1) already exists.\n",
     "output_type": "error",
     "traceback": [
      "\u001B[0;31m---------------------------------------------------------------------------\u001B[0m",
      "\u001B[0;31mUniqueViolation\u001B[0m                           Traceback (most recent call last)",
      "Cell \u001B[0;32mIn [24], line 1\u001B[0m\n\u001B[0;32m----> 1\u001B[0m cur\u001B[38;5;241m.\u001B[39mexecute(\u001B[38;5;124m\"\u001B[39m\u001B[38;5;124mINSERT INTO author (authorID,name,email,affiliation) VALUES (1, \u001B[39m\u001B[38;5;124m'\u001B[39m\u001B[38;5;124mMax Muster\u001B[39m\u001B[38;5;124m'\u001B[39m\u001B[38;5;124m, \u001B[39m\u001B[38;5;124m'\u001B[39m\u001B[38;5;124mmm@gmail.com\u001B[39m\u001B[38;5;124m'\u001B[39m\u001B[38;5;124m, \u001B[39m\u001B[38;5;124m'\u001B[39m\u001B[38;5;124mUniversity Bern\u001B[39m\u001B[38;5;124m'\u001B[39m\u001B[38;5;124m),(2, \u001B[39m\u001B[38;5;124m'\u001B[39m\u001B[38;5;124mAlexander Friedlich\u001B[39m\u001B[38;5;124m'\u001B[39m\u001B[38;5;124m, \u001B[39m\u001B[38;5;124m'\u001B[39m\u001B[38;5;124maf@gmai.com\u001B[39m\u001B[38;5;124m'\u001B[39m\u001B[38;5;124m, \u001B[39m\u001B[38;5;124m'\u001B[39m\u001B[38;5;124mUniversity Zurich\u001B[39m\u001B[38;5;124m'\u001B[39m\u001B[38;5;124m),(3, \u001B[39m\u001B[38;5;124m'\u001B[39m\u001B[38;5;124mMax Frisch\u001B[39m\u001B[38;5;124m'\u001B[39m\u001B[38;5;124m, \u001B[39m\u001B[38;5;124m'\u001B[39m\u001B[38;5;124mmf@gmail.com\u001B[39m\u001B[38;5;124m'\u001B[39m\u001B[38;5;124m, \u001B[39m\u001B[38;5;124m'\u001B[39m\u001B[38;5;124mUniversity Fribourg\u001B[39m\u001B[38;5;124m'\u001B[39m\u001B[38;5;124m), (4, \u001B[39m\u001B[38;5;124m'\u001B[39m\u001B[38;5;124mBarbara Muster\u001B[39m\u001B[38;5;124m'\u001B[39m\u001B[38;5;124m, \u001B[39m\u001B[38;5;124m'\u001B[39m\u001B[38;5;124mbm@gmail.com\u001B[39m\u001B[38;5;124m'\u001B[39m\u001B[38;5;124m, \u001B[39m\u001B[38;5;124m'\u001B[39m\u001B[38;5;124mETH Zurich\u001B[39m\u001B[38;5;124m'\u001B[39m\u001B[38;5;124m),(5, \u001B[39m\u001B[38;5;124m'\u001B[39m\u001B[38;5;124mBert Hildebrand\u001B[39m\u001B[38;5;124m'\u001B[39m\u001B[38;5;124m, \u001B[39m\u001B[38;5;124m'\u001B[39m\u001B[38;5;124mbh@gmail.com\u001B[39m\u001B[38;5;124m'\u001B[39m\u001B[38;5;124m, \u001B[39m\u001B[38;5;124m'\u001B[39m\u001B[38;5;124mUniversity St.Gallen\u001B[39m\u001B[38;5;124m'\u001B[39m\u001B[38;5;124m);\u001B[39m\u001B[38;5;124m\"\u001B[39m)\n\u001B[1;32m      2\u001B[0m conn\u001B[38;5;241m.\u001B[39mcommit()\n\u001B[1;32m      3\u001B[0m conn\u001B[38;5;241m.\u001B[39mclose()\n",
      "\u001B[0;31mUniqueViolation\u001B[0m: duplicate key value violates unique constraint \"author_pkey\"\nDETAIL:  Key (authorid)=(1) already exists.\n"
     ]
    }
   ],
   "source": [
    "cur.execute(\"INSERT INTO author (authorID,name,email,affiliation) VALUES \"+\n",
    "            \"(1, 'Max Muster', 'mm@gmail.com', 'University Bern'),\"+\n",
    "            \"(2, 'Alexander Friedlich', 'af@gmai.com', 'University Zurich'),\"+\n",
    "            \"(3, 'Max Frisch', 'mf@gmail.com', 'University Fribourg'), \"+\n",
    "            \"(4, 'Barbara Muster', 'bm@gmail.com', 'ETH Zurich'),\"+\n",
    "            \"(5, 'Bert Hildebrand', 'bh@gmail.com', 'University St.Gallen');\")\n",
    "conn.commit()"
   ],
   "metadata": {
    "collapsed": false,
    "pycharm": {
     "name": "#%%\n"
    }
   }
  },
  {
   "cell_type": "code",
   "execution_count": 31,
   "outputs": [],
   "source": [
    "cur.execute(\"INSERT INTO paper(paperID, title, abstract) VALUES \" +\n",
    "            \"(1, 'Title 1', 'Abstract'),\"+\n",
    "            \"(2, 'Title 2', 'Abstract'),\"+\n",
    "            \"(3, 'Title 3', 'Abstract'),\"+\n",
    "            \"(4, 'Title 4', 'Abstract'),\"+\n",
    "            \"(5, 'Title 5', 'Abstract'),\"+\n",
    "            \"(6, 'Title 6', 'Abstract');\")\n",
    "conn.commit()"
   ],
   "metadata": {
    "collapsed": false,
    "pycharm": {
     "name": "#%%\n"
    }
   }
  },
  {
   "cell_type": "code",
   "execution_count": 39,
   "outputs": [
    {
     "ename": "UniqueViolation",
     "evalue": "duplicate key value violates unique constraint \"conference_pkey\"\nDETAIL:  Key (conferenceid)=(1) already exists.\n",
     "output_type": "error",
     "traceback": [
      "\u001B[0;31m---------------------------------------------------------------------------\u001B[0m",
      "\u001B[0;31mUniqueViolation\u001B[0m                           Traceback (most recent call last)",
      "Cell \u001B[0;32mIn [39], line 1\u001B[0m\n\u001B[0;32m----> 1\u001B[0m cur\u001B[38;5;241m.\u001B[39mexecute(\u001B[38;5;124m\"\u001B[39m\u001B[38;5;124mINSERT INTO conference(conferenceID, name, ranking) VALUES \u001B[39m\u001B[38;5;124m\"\u001B[39m \u001B[38;5;241m+\u001B[39m\n\u001B[1;32m      2\u001B[0m             \u001B[38;5;124m\"\u001B[39m\u001B[38;5;124m(1, \u001B[39m\u001B[38;5;124m'\u001B[39m\u001B[38;5;124mConference 1\u001B[39m\u001B[38;5;124m'\u001B[39m\u001B[38;5;124m, 1),\u001B[39m\u001B[38;5;124m\"\u001B[39m\u001B[38;5;241m+\u001B[39m\n\u001B[1;32m      3\u001B[0m             \u001B[38;5;124m\"\u001B[39m\u001B[38;5;124m(2, \u001B[39m\u001B[38;5;124m'\u001B[39m\u001B[38;5;124mConference 2\u001B[39m\u001B[38;5;124m'\u001B[39m\u001B[38;5;124m, 2),\u001B[39m\u001B[38;5;124m\"\u001B[39m\u001B[38;5;241m+\u001B[39m\n\u001B[1;32m      4\u001B[0m             \u001B[38;5;124m\"\u001B[39m\u001B[38;5;124m(3, \u001B[39m\u001B[38;5;124m'\u001B[39m\u001B[38;5;124mConference 3\u001B[39m\u001B[38;5;124m'\u001B[39m\u001B[38;5;124m, 3),\u001B[39m\u001B[38;5;124m\"\u001B[39m\u001B[38;5;241m+\u001B[39m\n\u001B[1;32m      5\u001B[0m             \u001B[38;5;124m\"\u001B[39m\u001B[38;5;124m(4, \u001B[39m\u001B[38;5;124m'\u001B[39m\u001B[38;5;124mConference 4\u001B[39m\u001B[38;5;124m'\u001B[39m\u001B[38;5;124m, 4),\u001B[39m\u001B[38;5;124m\"\u001B[39m\u001B[38;5;241m+\u001B[39m\n\u001B[1;32m      6\u001B[0m             \u001B[38;5;124m\"\u001B[39m\u001B[38;5;124m(5, \u001B[39m\u001B[38;5;124m'\u001B[39m\u001B[38;5;124mConference 5\u001B[39m\u001B[38;5;124m'\u001B[39m\u001B[38;5;124m, 5),\u001B[39m\u001B[38;5;124m\"\u001B[39m\u001B[38;5;241m+\u001B[39m\n\u001B[1;32m      7\u001B[0m             \u001B[38;5;124m\"\u001B[39m\u001B[38;5;124m(6, \u001B[39m\u001B[38;5;124m'\u001B[39m\u001B[38;5;124mConference 6\u001B[39m\u001B[38;5;124m'\u001B[39m\u001B[38;5;124m, 6),\u001B[39m\u001B[38;5;124m\"\u001B[39m\u001B[38;5;241m+\u001B[39m\n\u001B[1;32m      8\u001B[0m             \u001B[38;5;124m\"\u001B[39m\u001B[38;5;124m(7, \u001B[39m\u001B[38;5;124m'\u001B[39m\u001B[38;5;124mConference 7\u001B[39m\u001B[38;5;124m'\u001B[39m\u001B[38;5;124m, 7),\u001B[39m\u001B[38;5;124m\"\u001B[39m\u001B[38;5;241m+\u001B[39m\n\u001B[1;32m      9\u001B[0m             \u001B[38;5;124m\"\u001B[39m\u001B[38;5;124m(8, \u001B[39m\u001B[38;5;124m'\u001B[39m\u001B[38;5;124mConference 8\u001B[39m\u001B[38;5;124m'\u001B[39m\u001B[38;5;124m, 8);\u001B[39m\u001B[38;5;124m\"\u001B[39m);\n\u001B[1;32m     10\u001B[0m conn\u001B[38;5;241m.\u001B[39mcommit()\n",
      "\u001B[0;31mUniqueViolation\u001B[0m: duplicate key value violates unique constraint \"conference_pkey\"\nDETAIL:  Key (conferenceid)=(1) already exists.\n"
     ]
    }
   ],
   "source": [
    "cur.execute(\"INSERT INTO conference(conferenceID, name, ranking) VALUES \" +\n",
    "            \"(1, 'Conference 1', 1),\"+\n",
    "            \"(2, 'Conference 2', 2),\"+\n",
    "            \"(3, 'Conference 3', 3),\"+\n",
    "            \"(4, 'Conference 4', 4),\"+\n",
    "            \"(5, 'Conference 5', 5),\"+\n",
    "            \"(6, 'Conference 6', 6),\"+\n",
    "            \"(7, 'Conference 7', 7),\"+\n",
    "            \"(8, 'Conference 8', 8);\");\n",
    "conn.commit()"
   ],
   "metadata": {
    "collapsed": false,
    "pycharm": {
     "name": "#%%\n"
    }
   }
  },
  {
   "cell_type": "code",
   "execution_count": 42,
   "outputs": [],
   "source": [
    "cur.execute(\"INSERT INTO writes(authorID, paperID) VALUES \" +\n",
    "            \"(1,1),\" +\n",
    "            \"(1,2),\" +\n",
    "            \"(2,4),\" +\n",
    "            \"(3,2),\" +\n",
    "            \"(3,6),\" +\n",
    "            \"(3,5),\" +\n",
    "            \"(4,4),\" +\n",
    "            \"(5,6);\" );\n",
    "conn.commit()"
   ],
   "metadata": {
    "collapsed": false,
    "pycharm": {
     "name": "#%%\n"
    }
   }
  },
  {
   "cell_type": "markdown",
   "source": [],
   "metadata": {
    "collapsed": false,
    "pycharm": {
     "name": "#%% md\n"
    }
   }
  },
  {
   "cell_type": "code",
   "execution_count": 53,
   "outputs": [],
   "source": [
    "cur.execute(\"INSERT INTO submits(paperID, conferenceID, isAccepted, submissionDate) VALUES \" +\n",
    "            \"(1,1,FALSE,'2020-03-01'),\" +\n",
    "            \"(1,2,TRUE,'2022-10-01'),\" +\n",
    "            \"(1,5,TRUE,'2019-11-01'),\" +\n",
    "            \"(1,7,FALSE,'2019-01-01'),\" +\n",
    "            \"(1,8,FALSE,'2020-04-01'),\" +\n",
    "            \"(2,2,TRUE,'2021-03-01'),\" +\n",
    "            \"(2,4,TRUE,'2021-02-01'),\" +\n",
    "            \"(2,5,FALSE,'2021-07-01'),\" +\n",
    "            \"(2,8,TRUE,'2022-9-01'),\" +\n",
    "            \"(3,3,FALSE,'2022-12-01'),\" +\n",
    "            \"(3,4,FALSE,'2022-06-01'),\" +\n",
    "            \"(4,7,FALSE,'2023-02-01'),\" +\n",
    "            \"(5,4,FALSE,'2022-04-01'),\" +\n",
    "            \"(5,5,FALSE,'2021-03-01'),\" +\n",
    "            \"(6,8,FALSE,'2020-08-01');\");\n",
    "conn.commit()"
   ],
   "metadata": {
    "collapsed": false,
    "pycharm": {
     "name": "#%%\n"
    }
   }
  },
  {
   "cell_type": "code",
   "execution_count": 52,
   "outputs": [],
   "source": [
    "cur.execute(\"INSERT INTO cites(paperIDfrom, paperIDto) VALUES \" +\n",
    "            \"(1,2),\" +\n",
    "            \"(1,3),\" +\n",
    "            \"(1,5),\" +\n",
    "            \"(2,4),\" +\n",
    "            \"(3,1),\" +\n",
    "            \"(3,6),\" +\n",
    "            \"(4,2),\" +\n",
    "            \"(4,3),\" +\n",
    "            \"(5,1),\" +\n",
    "            \"(5,6),\" +\n",
    "            \"(6,3),\" +\n",
    "            \"(6,1);\" );\n",
    "conn.commit()"
   ],
   "metadata": {
    "collapsed": false,
    "pycharm": {
     "name": "#%%\n"
    }
   }
  },
  {
   "cell_type": "code",
   "execution_count": 54,
   "outputs": [],
   "source": [
    "conn.close();"
   ],
   "metadata": {
    "collapsed": false,
    "pycharm": {
     "name": "#%%\n"
    }
   }
  }
 ],
 "metadata": {
  "kernelspec": {
   "display_name": "Python 3",
   "language": "python",
   "name": "python3"
  },
  "language_info": {
   "codemirror_mode": {
    "name": "ipython",
    "version": 2
   },
   "file_extension": ".py",
   "mimetype": "text/x-python",
   "name": "python",
   "nbconvert_exporter": "python",
   "pygments_lexer": "ipython2",
   "version": "2.7.6"
  }
 },
 "nbformat": 4,
 "nbformat_minor": 0
}